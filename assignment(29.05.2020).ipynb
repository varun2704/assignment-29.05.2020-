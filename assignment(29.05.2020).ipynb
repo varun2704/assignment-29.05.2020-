{
 "cells": [
  {
   "cell_type": "markdown",
   "metadata": {},
   "source": [
    "CSE-221710309012-Chakilam Varun\n"
   ]
  },
  {
   "cell_type": "code",
   "execution_count": 4,
   "metadata": {},
   "outputs": [
    {
     "name": "stdout",
     "output_type": "stream",
     "text": [
      "enter n5\n",
      "120\n"
     ]
    }
   ],
   "source": [
    "##Q.1\n",
    "def fact(n):\n",
    "    if n==1:\n",
    "        return n\n",
    "    else:\n",
    "        return n*fact(n-1)\n",
    "n=int(input('enter n'))         \n",
    "print(fact(5))"
   ]
  },
  {
   "cell_type": "code",
   "execution_count": 5,
   "metadata": {},
   "outputs": [
    {
     "name": "stdout",
     "output_type": "stream",
     "text": [
      "enter n5\n",
      "0\n",
      "1\n",
      "1\n",
      "2\n",
      "3\n"
     ]
    }
   ],
   "source": [
    "##Q.2\n",
    "def fib(n):\n",
    "    if n<=1:\n",
    "        return n\n",
    "    else:\n",
    "        return(fib(n-1)+fib(n-2))\n",
    "    \n",
    "n=int(input('enter n'))\n",
    "for i in range(n):   \n",
    "         print(fib(i))"
   ]
  },
  {
   "cell_type": "code",
   "execution_count": 9,
   "metadata": {},
   "outputs": [
    {
     "name": "stdout",
     "output_type": "stream",
     "text": [
      "100\n"
     ]
    }
   ],
   "source": [
    "##Q.3\n",
    "list1=[10,20,30,40]\n",
    "sum=0;\n",
    "for i in range(0,len(list1)):\n",
    "    sum=sum+list1[i]\n",
    "    \n",
    "print(sum)"
   ]
  },
  {
   "cell_type": "code",
   "execution_count": 13,
   "metadata": {},
   "outputs": [
    {
     "name": "stdout",
     "output_type": "stream",
     "text": [
      "10\n",
      "30\n",
      "90\n",
      "2\n",
      "36\n"
     ]
    }
   ],
   "source": [
    "##Q.4\n",
    "l1=[10,21,30,33,35,89,90,2,36,47]\n",
    "for i in range(0,len(l1)):\n",
    "    if l1[i]%2==0:\n",
    "        l2=print(l1[i])\n",
    "        \n",
    "    "
   ]
  },
  {
   "cell_type": "code",
   "execution_count": 16,
   "metadata": {},
   "outputs": [
    {
     "name": "stdout",
     "output_type": "stream",
     "text": [
      "1\n",
      "8\n"
     ]
    }
   ],
   "source": [
    "##Q.5\n",
    "l1=[10,20,4,5,66,89,10001,1,79]\n",
    "s=l1[0]\n",
    "for i in range(0,len(l1)):\n",
    "    if l1[i]<s:\n",
    "        a=l1[i]\n",
    "        ind=i\n",
    "        \n",
    "        \n",
    "print(a)\n",
    "print(ind+1)"
   ]
  },
  {
   "cell_type": "code",
   "execution_count": 20,
   "metadata": {},
   "outputs": [
    {
     "name": "stdout",
     "output_type": "stream",
     "text": [
      "enter a stringmadam\n",
      "palindrome\n"
     ]
    }
   ],
   "source": [
    "##Q.6\n",
    "str=input(\"enter a string\")\n",
    "if str == str[::-1]:\n",
    "    print('palindrome')\n",
    "else:\n",
    "    print('not a palindrome')"
   ]
  },
  {
   "cell_type": "code",
   "execution_count": 22,
   "metadata": {},
   "outputs": [
    {
     "name": "stdout",
     "output_type": "stream",
     "text": [
      "Number of even numbers= 5\n",
      "Number of odd numbers= 4\n"
     ]
    }
   ],
   "source": [
    "##Q.7\n",
    "l1= [1, 2, 3, 4, 5, 6, 7, 8, 9]\n",
    "ec=0\n",
    "oc=0\n",
    "for i in range (0,len(l1)):\n",
    "    if i%2==0:\n",
    "        ec=ec+1;\n",
    "    else:\n",
    "        oc=oc+1\n",
    "        \n",
    "print(\"Number of even numbers=\",end=\" \")\n",
    "print(ec)\n",
    "print(\"Number of odd numbers=\",end=\" \")\n",
    "print(oc)"
   ]
  },
  {
   "cell_type": "code",
   "execution_count": 37,
   "metadata": {},
   "outputs": [
    {
     "name": "stdout",
     "output_type": "stream",
     "text": [
      "0\n",
      "1\n",
      "2\n",
      "4\n",
      "5\n"
     ]
    }
   ],
   "source": [
    "##Q.8\n",
    "\n",
    "for i in range (0,7):\n",
    "    if i==3 or i==6:\n",
    "        continue\n",
    "    else:\n",
    "        print(i)"
   ]
  },
  {
   "cell_type": "code",
   "execution_count": 52,
   "metadata": {},
   "outputs": [
    {
     "name": "stdout",
     "output_type": "stream",
     "text": [
      "enter a number11\n",
      "it is a prime number\n"
     ]
    }
   ],
   "source": [
    "##Q.9\n",
    "\n",
    "n=int(input(\"enter a number\"))\n",
    "c=0\n",
    "for i in range (2,n+1):\n",
    "    if n%i==0:\n",
    "        c=c+1\n",
    "        \n",
    "if c==1:\n",
    "    print(\"it is a prime number\")\n",
    "else:\n",
    "    print(\"not a prime number\")"
   ]
  },
  {
   "cell_type": "code",
   "execution_count": 10,
   "metadata": {},
   "outputs": [
    {
     "name": "stdout",
     "output_type": "stream",
     "text": [
      "enter a number13\n",
      "Adam Number\n"
     ]
    }
   ],
   "source": [
    "\n",
    "def rev(n):\n",
    "    rev=0\n",
    "    while n>0:\n",
    "        rem=n%10\n",
    "        rev=rev*10+rem\n",
    "        n=n//10\n",
    "    return rev\n",
    "        \n",
    "n=int(input(\"enter a number\"))\n",
    "s1=n*n\n",
    "rev1=rev(n)\n",
    "s2=rev1*rev1\n",
    "if s1==rev(s2):\n",
    "    print(\"Adam Number\")\n",
    "else:\n",
    "    print(\"Not a Adam Number\")"
   ]
  },
  {
   "cell_type": "code",
   "execution_count": null,
   "metadata": {},
   "outputs": [],
   "source": []
  }
 ],
 "metadata": {
  "kernelspec": {
   "display_name": "Python 3",
   "language": "python",
   "name": "python3"
  },
  "language_info": {
   "codemirror_mode": {
    "name": "ipython",
    "version": 3
   },
   "file_extension": ".py",
   "mimetype": "text/x-python",
   "name": "python",
   "nbconvert_exporter": "python",
   "pygments_lexer": "ipython3",
   "version": "3.7.6"
  }
 },
 "nbformat": 4,
 "nbformat_minor": 4
}
